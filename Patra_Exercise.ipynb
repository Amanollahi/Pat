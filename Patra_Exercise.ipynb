{
  "nbformat": 4,
  "nbformat_minor": 0,
  "metadata": {
    "colab": {
      "provenance": [],
      "authorship_tag": "ABX9TyPwCvYJ+8lzGIF0E9T6zH3U",
      "include_colab_link": true
    },
    "kernelspec": {
      "name": "python3",
      "display_name": "Python 3"
    },
    "language_info": {
      "name": "python"
    }
  },
  "cells": [
    {
      "cell_type": "markdown",
      "metadata": {
        "id": "view-in-github",
        "colab_type": "text"
      },
      "source": [
        "<a href=\"https://colab.research.google.com/github/Amanollahi/Pat/blob/main/Patra_Exercise.ipynb\" target=\"_parent\"><img src=\"https://colab.research.google.com/assets/colab-badge.svg\" alt=\"Open In Colab\"/></a>"
      ]
    },
    {
      "cell_type": "code",
      "source": [
        "import pandas as pd\n",
        "import re\n",
        "from sklearn.model_selection import train_test_split\n",
        "from sklearn.feature_extraction.text import TfidfVectorizer\n",
        "from sklearn.linear_model import LogisticRegression\n",
        "from sklearn.metrics import f1_score, classification_report\n",
        "from nltk.corpus import stopwords\n",
        "from nltk.stem import WordNetLemmatizer\n",
        "from nltk.tokenize import word_tokenize\n",
        "import nltk\n",
        "\n",
        "# Download required NLTK data\n",
        "nltk.download('punkt')\n",
        "nltk.download('stopwords')\n",
        "nltk.download('wordnet')\n",
        "nltk.download('punkt_tab')\n",
        "nltk.download('omw-1.4')"
      ],
      "metadata": {
        "colab": {
          "base_uri": "https://localhost:8080/"
        },
        "id": "vOhBk0WZYcAQ",
        "outputId": "b926c744-e666-4334-ab14-c1c5b70e0d03"
      },
      "execution_count": 4,
      "outputs": [
        {
          "output_type": "stream",
          "name": "stderr",
          "text": [
            "[nltk_data] Downloading package punkt to /root/nltk_data...\n",
            "[nltk_data]   Package punkt is already up-to-date!\n",
            "[nltk_data] Downloading package stopwords to /root/nltk_data...\n",
            "[nltk_data]   Package stopwords is already up-to-date!\n",
            "[nltk_data] Downloading package wordnet to /root/nltk_data...\n",
            "[nltk_data]   Package wordnet is already up-to-date!\n",
            "[nltk_data] Downloading package punkt_tab to /root/nltk_data...\n",
            "[nltk_data]   Package punkt_tab is already up-to-date!\n",
            "[nltk_data] Downloading package omw-1.4 to /root/nltk_data...\n",
            "[nltk_data]   Package omw-1.4 is already up-to-date!\n"
          ]
        },
        {
          "output_type": "execute_result",
          "data": {
            "text/plain": [
              "True"
            ]
          },
          "metadata": {},
          "execution_count": 4
        }
      ]
    },
    {
      "cell_type": "code",
      "source": [
        "\n",
        "url = \"https://raw.githubusercontent.com/Amanollahi/Pat/main/review_data.csv\"\n",
        "df = pd.read_csv(url)\n",
        "\n",
        "# Check the first few rows\n",
        "print(df.head())\n",
        "\n",
        "# Check the shape of your dataset\n",
        "print(\"\\nDataset shape:\", df.shape)"
      ],
      "metadata": {
        "colab": {
          "base_uri": "https://localhost:8080/"
        },
        "id": "PFLxXcvKaGi6",
        "outputId": "8b49fc33-785f-46aa-de99-a0a0f1ee8814"
      },
      "execution_count": 3,
      "outputs": [
        {
          "output_type": "stream",
          "name": "stdout",
          "text": [
            "                                              review  label\n",
            "0  After 6 years of faithful service, my hard dri...      0\n",
            "1  So far so good - this is a comprehensive and p...      0\n",
            "2  This has been a great and easy software to use...      0\n",
            "3  This router is great. The setup and installati...      0\n",
            "4  Overview\\n\\nThis is a great array for someone ...      0\n",
            "\n",
            "Dataset shape: (3825, 2)\n"
          ]
        }
      ]
    },
    {
      "cell_type": "code",
      "source": [
        "def load_data(file_path):\n",
        "    \"\"\"Load dataset from a CSV file.\"\"\"\n",
        "    df = pd.read_csv(file_path)\n",
        "    print(\"Dataset loaded successfully.\")\n",
        "    print(\"\\nDataset Info:\")\n",
        "    print(df.info())\n",
        "    print(\"\\nClass Distribution:\")\n",
        "    print(df['label'].value_counts())\n",
        "    return df\n",
        "\n",
        "def preprocess_text(text):\n",
        "    \"\"\"Clean and preprocess the text data.\"\"\"\n",
        "    text = str(text).lower()\n",
        "    text = re.sub(r'[^a-zA-Z\\s]', '', text)\n",
        "    tokens = word_tokenize(text)\n",
        "    stop_words = set(stopwords.words('english'))\n",
        "    tokens = [t for t in tokens if t not in stop_words]\n",
        "    lemmatizer = WordNetLemmatizer()\n",
        "    tokens = [lemmatizer.lemmatize(t) for t in tokens]\n",
        "    return ' '.join(tokens)\n",
        "\n",
        "def preprocess_dataset(df):\n",
        "    \"\"\"Apply preprocessing to the dataset.\"\"\"\n",
        "    df['cleaned_text'] = df['review'].apply(preprocess_text)  # Fixed column name\n",
        "    return df\n",
        "\n",
        "def vectorize_text(train_texts, test_texts):\n",
        "    \"\"\"Convert text data into numerical format using TF-IDF.\"\"\"\n",
        "    vectorizer = TfidfVectorizer(max_features=5000)\n",
        "    X_train = vectorizer.fit_transform(train_texts)\n",
        "    X_test = vectorizer.transform(test_texts)\n",
        "    return X_train, X_test, vectorizer\n",
        "\n",
        "def train_model(X_train, y_train):\n",
        "    \"\"\"Train a Logistic Regression model.\"\"\"\n",
        "    # Added class_weight='balanced' to handle class imbalance\n",
        "    model = LogisticRegression(random_state=42, max_iter=1000, class_weight='balanced')\n",
        "    model.fit(X_train, y_train)\n",
        "    return model\n",
        "\n",
        "def evaluate_model(model, X_test, y_test):\n",
        "    \"\"\"Evaluate the model using F1 score and other metrics.\"\"\"\n",
        "    y_pred = model.predict(X_test)\n",
        "    f1 = f1_score(y_test, y_pred, average='weighted')\n",
        "    print(\"\\nF1 Score:\", f1)\n",
        "    print(\"\\nClassification Report:\")\n",
        "    print(classification_report(y_test, y_pred))\n",
        "    return f1\n",
        "\n",
        "def main():\n",
        "    file_path = \"https://raw.githubusercontent.com/Amanollahi/Pat/main/review_data.csv\"\n",
        "\n",
        "    # Load and preprocess\n",
        "    df = load_data(file_path)\n",
        "    df = preprocess_dataset(df)\n",
        "\n",
        "    # Split dataset\n",
        "    X_train, X_test, y_train, y_test = train_test_split(\n",
        "        df['cleaned_text'],\n",
        "        df['label'],\n",
        "        test_size=0.2,\n",
        "        random_state=42,\n",
        "        stratify=df['label']\n",
        "    )\n",
        "\n",
        "    # Feature engineering and training\n",
        "    X_train_vec, X_test_vec, vectorizer = vectorize_text(X_train, X_test)\n",
        "    model = train_model(X_train_vec, y_train)\n",
        "\n",
        "    # Evaluation\n",
        "    evaluate_model(model, X_test_vec, y_test)\n",
        "\n",
        "if __name__ == \"__main__\":\n",
        "    main()"
      ],
      "metadata": {
        "colab": {
          "base_uri": "https://localhost:8080/"
        },
        "id": "CZhDVk_H0Pc5",
        "outputId": "602ece42-a582-4b33-8cbf-4cac1ae54d70"
      },
      "execution_count": 5,
      "outputs": [
        {
          "output_type": "stream",
          "name": "stdout",
          "text": [
            "Dataset loaded successfully.\n",
            "\n",
            "Dataset Info:\n",
            "<class 'pandas.core.frame.DataFrame'>\n",
            "RangeIndex: 3825 entries, 0 to 3824\n",
            "Data columns (total 2 columns):\n",
            " #   Column  Non-Null Count  Dtype \n",
            "---  ------  --------------  ----- \n",
            " 0   review  3824 non-null   object\n",
            " 1   label   3825 non-null   int64 \n",
            "dtypes: int64(1), object(1)\n",
            "memory usage: 59.9+ KB\n",
            "None\n",
            "\n",
            "Class Distribution:\n",
            "label\n",
            "0    3738\n",
            "1      87\n",
            "Name: count, dtype: int64\n",
            "\n",
            "F1 Score: 0.9600424696076871\n",
            "\n",
            "Classification Report:\n",
            "              precision    recall  f1-score   support\n",
            "\n",
            "           0       0.98      0.98      0.98       748\n",
            "           1       0.11      0.12      0.11        17\n",
            "\n",
            "    accuracy                           0.96       765\n",
            "   macro avg       0.55      0.55      0.55       765\n",
            "weighted avg       0.96      0.96      0.96       765\n",
            "\n"
          ]
        }
      ]
    }
  ]
}